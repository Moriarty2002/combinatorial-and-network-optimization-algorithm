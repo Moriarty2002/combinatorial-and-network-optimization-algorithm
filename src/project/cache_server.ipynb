{
 "cells": [
  {
   "cell_type": "code",
   "execution_count": null,
   "id": "3ea507c8",
   "metadata": {},
   "outputs": [],
   "source": [
    "# imports\n",
    "import gurobipy as gp\n",
    "from gurobipy import GRB"
   ]
  },
  {
   "cell_type": "markdown",
   "id": "28210e55",
   "metadata": {},
   "source": [
    "---\n",
    "Load data"
   ]
  },
  {
   "cell_type": "code",
   "execution_count": null,
   "id": "6217fc6a",
   "metadata": {},
   "outputs": [],
   "source": [
    "num_video = 0\n",
    "num_endpoint = 0\n",
    "num_req = 0\n",
    "num_server = 0\n",
    "\n",
    "cache_capacity = 0\n",
    "video_size = []\n",
    "\n",
    "latency = {}            # [endpoint][cache/datacenter]\n",
    "reqs = {}               # [endpoint][video][num reqs]"
   ]
  },
  {
   "cell_type": "code",
   "execution_count": null,
   "id": "c85803ad",
   "metadata": {},
   "outputs": [],
   "source": [
    "dataset = \"dataset/videos_worth_spreading.in\"\n",
    "\n",
    "i = 0\n",
    "with open(dataset, \"r\") as f:\n",
    "    line = f.readline().split()\n",
    "    \n",
    "    if i==0:\n",
    "        num_video = int(line[0])\n",
    "        num_endpoint = int(line[1])\n",
    "        num_req = int(line[2])\n",
    "        num_cache = int(line[3])\n",
    "        cache_capacity = int(line[4])\n",
    "    \n",
    "    elif i == 1:\n",
    "        for size in line:\n",
    "            video_size.append(size)\n",
    "    \n",
    "    else: # TODO: take latency and requests\n",
    "        pass\n",
    "    \n",
    "    i = i+1\n",
    "    "
   ]
  }
 ],
 "metadata": {
  "language_info": {
   "name": "python"
  }
 },
 "nbformat": 4,
 "nbformat_minor": 5
}
