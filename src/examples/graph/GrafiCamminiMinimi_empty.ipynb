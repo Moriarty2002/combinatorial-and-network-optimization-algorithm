{
 "cells": [
  {
   "cell_type": "markdown",
   "id": "c7c8972e",
   "metadata": {},
   "source": [
    "## Calcola in cammino minimo da un nodo origine a un nodo destinazione\n",
    "\n",
    "### Dati di input: \n",
    "\n",
    "- ori $\\rightarrow$ nodo origine \n",
    "- dest $\\rightarrow$ nodo destinazione\n",
    "- Nodi $\\rightarrow$ lista dei nodi del grafo\n",
    "- Archi $\\rightarrow$ archi del grafo (chiave (i,j), valore $c_{ij}$)\n",
    "\n",
    "### Output: \n",
    "\n",
    "- status\n",
    "- lista degli archi della soluzione"
   ]
  },
  {
   "cell_type": "code",
   "execution_count": null,
   "id": "83f5b70d",
   "metadata": {},
   "outputs": [],
   "source": [
    "import gurobipy as gp\n",
    "from gurobipy import GRB\n",
    "\n",
    "def O_D_ShortestPath(Nodi, Archi, ori, dest):\n",
    "\n",
    "\n",
    "    return mod.status, SOL    # SOL è una lista contenente gli archi della soluzione"
   ]
  },
  {
   "cell_type": "markdown",
   "id": "891add0a",
   "metadata": {},
   "source": [
    "## Calcola l'arborescenza dei cammini minimi\n",
    "\n",
    "### Dati di input: \n",
    "\n",
    "- ori $\\rightarrow$ nodo origine \n",
    "- Nodi $\\rightarrow$ lista dei nodi del grafo\n",
    "- Archi $\\rightarrow$ archi del grafo (chiave (i,j), valore $c_{ij}$)\n",
    "\n",
    "### Output: \n",
    "\n",
    "- status\n",
    "- lista degli archi della soluzione"
   ]
  },
  {
   "cell_type": "code",
   "execution_count": null,
   "id": "73a20e3c",
   "metadata": {},
   "outputs": [],
   "source": [
    "def ShortestPaths(Nodi, Archi, ori):\n",
    "\n",
    "    return mod.status, SOL "
   ]
  },
  {
   "cell_type": "markdown",
   "id": "29decc34",
   "metadata": {},
   "source": [
    "### Legge i nodi e gli archi del grafo dal file "
   ]
  },
  {
   "cell_type": "markdown",
   "id": "0cad413f",
   "metadata": {},
   "source": [
    "### Legge il file contenente l'elenco dei nodi con le relative coordinate e l'elenco degli archi. Crea le seguenti varibiali:\n",
    "- Il nodo origine: **ori**\n",
    "- Il nodo destinazione: **dest**\n",
    "- Una lista **Nodi** contenente l'elenco dei nodi del grafo\n",
    "- Un Dictionary **PosOfNodi** = $\\{i : \\ (x_i, y_i) \\quad i \\in V\\}$\n",
    "- Un Dictionary **Archi** = $\\{(i,j) : \\ c_{ij} \\quad (i,j) \\in A\\}$"
   ]
  },
  {
   "cell_type": "code",
   "execution_count": null,
   "id": "4539494e",
   "metadata": {},
   "outputs": [],
   "source": [
    "file = open(\"shortest_path_example_pos.dat\", \"r\")\n",
    "\n"
   ]
  },
  {
   "cell_type": "markdown",
   "id": "25f6f4f8",
   "metadata": {},
   "source": [
    "### Crea il grafo e lo disegna"
   ]
  },
  {
   "cell_type": "code",
   "execution_count": null,
   "id": "c34801d5",
   "metadata": {},
   "outputs": [],
   "source": [
    "import networkx as nx \n",
    "import matplotlib.pyplot as plt\n",
    "\n",
    "G = nx.DiGraph()\n",
    "\n",
    "# aggiunge i nodi\n",
    "G.add_nodes_from(Nodi)\n",
    "\n",
    "# aggiunge gli archi\n",
    "G.add_edges_from(Archi)\n",
    "\n",
    "# disegna il grafo\n",
    "plt.figure()\n",
    "nx.draw(G, PosOfNodi, with_labels = True, node_size = 700)\n",
    "nx.draw_networkx_edge_labels(G, PosOfNodi, edge_labels=Archi, label_pos=0.75)\n",
    "plt.draw()"
   ]
  },
  {
   "cell_type": "markdown",
   "id": "95689682",
   "metadata": {},
   "source": [
    "### Colora di rosso il cammino minimo"
   ]
  },
  {
   "cell_type": "code",
   "execution_count": null,
   "id": "211258cc",
   "metadata": {},
   "outputs": [],
   "source": [
    "Status, SOL = O_D_ShortestPath(Nodi, Archi, ori, dest)\n",
    "\n",
    "# disegna il grafo colorando di rosso gli archi di SOL\n",
    "plt.figure()\n",
    "nx.draw(G, PosOfNodi, with_labels = True, node_size = 700)\n",
    "nx.draw_networkx_edge_labels(G, PosOfNodi, edge_labels=Archi, label_pos=0.75)\n",
    "nx.draw_networkx_edges(G, PosOfNodi, edgelist=SOL, width=8, alpha=0.5, edge_color=\"tab:red\")\n",
    "plt.draw()"
   ]
  },
  {
   "cell_type": "markdown",
   "id": "5ff67877",
   "metadata": {},
   "source": [
    "### Colora di rosso l'arborescenza dei cammini minimi"
   ]
  },
  {
   "cell_type": "code",
   "execution_count": null,
   "id": "c38ad0fc",
   "metadata": {},
   "outputs": [],
   "source": [
    "Status, SOL = ShortestPaths(Nodi, Archi, ori)\n",
    "\n"
   ]
  },
  {
   "cell_type": "code",
   "execution_count": null,
   "id": "718270ce-3f2d-42e7-8485-43dad78b7f6b",
   "metadata": {},
   "outputs": [],
   "source": []
  },
  {
   "cell_type": "code",
   "execution_count": null,
   "id": "84c2d6ea-182c-48f4-825b-e9e890774827",
   "metadata": {},
   "outputs": [],
   "source": []
  }
 ],
 "metadata": {
  "kernelspec": {
   "display_name": "Python [conda env:base] *",
   "language": "python",
   "name": "conda-base-py"
  },
  "language_info": {
   "codemirror_mode": {
    "name": "ipython",
    "version": 3
   },
   "file_extension": ".py",
   "mimetype": "text/x-python",
   "name": "python",
   "nbconvert_exporter": "python",
   "pygments_lexer": "ipython3",
   "version": "3.12.3"
  }
 },
 "nbformat": 4,
 "nbformat_minor": 5
}
