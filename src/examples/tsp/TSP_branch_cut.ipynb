{
 "cells": [
  {
   "cell_type": "markdown",
   "metadata": {},
   "source": [
    "# Problema del commesso viaggatore (TSP)"
   ]
  },
  {
   "cell_type": "markdown",
   "metadata": {},
   "source": [
    "## Definizione\n",
    "### Dato un grafo $G(V,A)$ a cui è associato un costo $d_{ij}$ ad ogni arco $(i,j) \\in A$. Il problema del commesso viaggiatore consiste nel cercare il circuito Hamiltoniano di costo minimo.\n",
    "### - Un ciclo Hamiltoniano è un ciclo che attraversa tutti i nodi del grafo una ed una sola volta.\n",
    "### - Il costo di un ciclo Hamiltoniano è dato dalla somma dei costi degli archi che lo compongono."
   ]
  },
  {
   "cell_type": "markdown",
   "metadata": {},
   "source": [
    "## Definizione"
   ]
  },
  {
   "cell_type": "markdown",
   "metadata": {},
   "source": [
    "## Variabili di decisione\n",
    "\n",
    "### <span style=\"color:purple\">$x_{ij} \\quad (i,j) \\in A $ </span>  - variabile binaria uguale a $1$ se l'arco $(i,j)$ appartiene al circuito hamiltoniano, 0 altrimenti.\n",
    "\n",
    "\n",
    "## Funzione obiettivo\n",
    "### Minimizza il costo totale del circuito hamiltoniano\n",
    "\n",
    "\\begin{equation}\n",
    "\\text{Min} \\quad Z = \\sum_{(i,j) \\in A} d_{ij} \\cdot x_{ij}\n",
    "\\end{equation}\n",
    "\n",
    "## Vincoli di assegnamento\n",
    "### In una soluzione ammissibile (circuito hamiltoniano) ogni nodo deve avere esattamente un arco entrante ed esattamente un arco uscente.\n",
    "\n",
    "\\begin{equation}\n",
    "\\sum_{i \\in V, \\ i \\neq j} x_{ij} = 1 \\quad \\quad j \\in V \n",
    "\\end{equation}\n",
    "\n",
    "\\begin{equation}\n",
    "\\sum_{i \\in V, \\ i \\neq j} x_{ji} = 1 \\quad \\quad j \\in V \n",
    "\\end{equation}\n",
    "\n",
    "## Vincoli di assenza di sottogiri \n",
    "\n",
    "\\begin{eqnarray}\n",
    "& \\sum_{i,j \\in S} x_{ij} \\leq |S| -1 \\quad S \\subset V\n",
    "\\end{eqnarray}"
   ]
  },
  {
   "cell_type": "markdown",
   "metadata": {},
   "source": [
    "## Istanza\n",
    "\n",
    "### Legge il file in input e crea il dizionario *Nodes* con chiave *nome del nodo* e valore *coordinate del nodo*"
   ]
  },
  {
   "cell_type": "code",
   "execution_count": 1,
   "metadata": {},
   "outputs": [],
   "source": [
    "Nodes = {}\n",
    "\n",
    "file = open(\"att48.tsp\", \"r\")\n",
    "\n",
    "line = file.readline()\n",
    "\n",
    "while not line.startswith(\"EOF\"):\n",
    "    \n",
    "    if line.startswith(\"DIMENSION\"):\n",
    "        NumNodes = int(line.split()[1])\n",
    "    elif line.startswith(\"NODE\"):\n",
    "        for i in range(NumNodes) :\n",
    "            line = file.readline().split()\n",
    "            Nodes[int(line[0])] = (float(line[1]), float(line[2]))\n",
    "    \n",
    "    line = file.readline()"
   ]
  },
  {
   "cell_type": "markdown",
   "metadata": {},
   "source": [
    "### Crea il dizionario Dist con chiave *(i,j)* e valore la distanza euclidea"
   ]
  },
  {
   "cell_type": "code",
   "execution_count": 2,
   "metadata": {},
   "outputs": [],
   "source": [
    "import math\n",
    "\n",
    "Dist = {}\n",
    "\n",
    "for i in Nodes :\n",
    "    for j in Nodes :\n",
    "        if i != j :\n",
    "            difx = Nodes[i][0] - Nodes[j][0]\n",
    "            dify = Nodes[i][1] - Nodes[j][1]\n",
    "            Dist[(i,j)] = math.sqrt(difx**2 + dify**2)"
   ]
  },
  {
   "cell_type": "markdown",
   "metadata": {},
   "source": [
    "## Importa la libreria GRB inizializza il problema e definisce le variabili"
   ]
  },
  {
   "cell_type": "code",
   "execution_count": 3,
   "metadata": {},
   "outputs": [
    {
     "name": "stdout",
     "output_type": "stream",
     "text": [
      "Set parameter Username\n",
      "Academic license - for non-commercial use only - expires 2024-07-26\n"
     ]
    }
   ],
   "source": [
    "import gurobipy as gp\n",
    "from gurobipy import GRB\n",
    "\n",
    "mod = gp.Model(\"TSP\")\n",
    "\n",
    "Xvars = mod.addVars(Dist.keys(), obj = Dist, vtype = GRB.BINARY, name = \"x\")"
   ]
  },
  {
   "cell_type": "markdown",
   "metadata": {},
   "source": [
    "## Vincoli di assegnamento"
   ]
  },
  {
   "cell_type": "code",
   "execution_count": 4,
   "metadata": {},
   "outputs": [],
   "source": [
    "outstar = mod.addConstrs(gp.quicksum(Xvars[i,j] for j in Nodes if i != j) == 1 for i in Nodes)\n",
    "\n",
    "instar = mod.addConstrs(Xvars.sum('*',i) == 1 for i in Nodes)"
   ]
  },
  {
   "cell_type": "markdown",
   "metadata": {},
   "source": [
    "## Procedura che individua i sottogiri\n",
    "\n",
    "### input\n",
    "- SOL -> lista degli archi nella soluzione corrente\n",
    "\n",
    "### output\n",
    "- feasible -> = True se la soluzione è ammissibile\n",
    "- SubTour -> lista dei nodi del sottogiro individuato"
   ]
  },
  {
   "cell_type": "code",
   "execution_count": 5,
   "metadata": {},
   "outputs": [],
   "source": [
    "def LookForSubTours(SOL, FirstNode):\n",
    "\n",
    "    feasible = True\n",
    "\n",
    "    UnVisited = list(Nodes.keys())\n",
    "    Visited = []\n",
    "    NextNode = FirstNode\n",
    "    \n",
    "    while NextNode not in Visited :\n",
    "        \n",
    "        CurrentNode = NextNode\n",
    "        UnVisited.remove(CurrentNode)\n",
    "        Visited.append(CurrentNode)\n",
    "        \n",
    "        for (i,j) in SOL :\n",
    "            if i == CurrentNode :\n",
    "                NextNode = j\n",
    "                break\n",
    "        \n",
    "    if len(UnVisited) > 0 :\n",
    "        feasible = False\n",
    "        \n",
    "    return feasible, Visited\n",
    "\n",
    "\n",
    "def LookForMinSubTour(SOL):\n",
    "    \n",
    "    UnVisited = list(Nodes.keys())\n",
    "    MinTour = list(Nodes.keys())\n",
    "    \n",
    "    while len(UnVisited) > 0 :\n",
    "        \n",
    "        FirstNode = UnVisited[0]\n",
    "        feasible, SubTour = LookForSubTours(SOL, FirstNode)\n",
    "        \n",
    "        if len(SubTour) <= len(MinTour):\n",
    "            MinTour = SubTour\n",
    "        \n",
    "        for i in SubTour :\n",
    "            UnVisited.remove(i)\n",
    "        \n",
    "    return feasible, MinTour"
   ]
  },
  {
   "cell_type": "code",
   "execution_count": 6,
   "metadata": {},
   "outputs": [],
   "source": [
    "def GeneraLazyConstr(mod, where) :\n",
    "    \n",
    "    if where == GRB.Callback.MIPSOL :\n",
    "        \n",
    "        SOL = []\n",
    "        Xvals = mod.cbGetSolution(mod._Xvars)\n",
    "        for (i,j) in Xvals:\n",
    "            if Xvals[i,j] > 0.5 :\n",
    "                SOL.append((i,j))\n",
    "        \n",
    "        feasible, Tour = LookForMinSubTour(SOL)\n",
    "        \n",
    "        if not feasible :\n",
    "            mod.cbLazy(gp.quicksum(Xvars[i,j] for i in Tour for j in Tour if i != j) <= len(Tour) -1)"
   ]
  },
  {
   "cell_type": "markdown",
   "metadata": {},
   "source": [
    "## Risolve il modello"
   ]
  },
  {
   "cell_type": "code",
   "execution_count": 7,
   "metadata": {},
   "outputs": [
    {
     "name": "stdout",
     "output_type": "stream",
     "text": [
      "Set parameter LazyConstraints to value 1\n",
      "Gurobi Optimizer version 10.0.3 build v10.0.3rc0 (win64)\n",
      "\n",
      "CPU model: 11th Gen Intel(R) Core(TM) i7-1165G7 @ 2.80GHz, instruction set [SSE2|AVX|AVX2|AVX512]\n",
      "Thread count: 4 physical cores, 8 logical processors, using up to 8 threads\n",
      "\n",
      "Optimize a model with 96 rows, 2256 columns and 4512 nonzeros\n",
      "Model fingerprint: 0xcd1ba8d4\n",
      "Variable types: 0 continuous, 2256 integer (2256 binary)\n",
      "Coefficient statistics:\n",
      "  Matrix range     [1e+00, 1e+00]\n",
      "  Objective range  [1e+02, 8e+03]\n",
      "  Bounds range     [1e+00, 1e+00]\n",
      "  RHS range        [1e+00, 1e+00]\n",
      "Presolve time: 0.01s\n",
      "Presolved: 96 rows, 2256 columns, 4512 nonzeros\n",
      "Variable types: 0 continuous, 2256 integer (2256 binary)\n",
      "\n",
      "Root relaxation: objective 2.788971e+04, 87 iterations, 0.00 seconds (0.00 work units)\n",
      "\n",
      "    Nodes    |    Current Node    |     Objective Bounds      |     Work\n",
      " Expl Unexpl |  Obj  Depth IntInf | Incumbent    BestBd   Gap | It/Node Time\n",
      "\n",
      "     0     0 27889.7096    0    -          - 27889.7096      -     -    0s\n",
      "     0     0 27949.8789    0    -          - 27949.8789      -     -    0s\n",
      "     0     0 28247.3781    0   12          - 28247.3781      -     -    0s\n",
      "     0     0 29463.8305    0   30          - 29463.8305      -     -    0s\n",
      "     0     2 29488.8861    0   30          - 29488.8861      -     -    0s\n",
      "*  280   145              14    34533.035365 32092.2384  7.07%   8.9    0s\n",
      "*  364   167               9    33600.561458 32383.3277  3.62%   8.9    0s\n",
      "*  420   130              14    33523.708507 32507.1358  3.03%   9.4    0s\n",
      "\n",
      "Cutting planes:\n",
      "  Lazy constraints: 54\n",
      "\n",
      "Explored 596 nodes (5430 simplex iterations) in 0.39 seconds (0.21 work units)\n",
      "Thread count was 8 (of 8 available processors)\n",
      "\n",
      "Solution count 3: 33523.7 33600.6 34533 \n",
      "\n",
      "Optimal solution found (tolerance 1.00e-04)\n",
      "Best objective 3.352370850744e+04, best bound 3.352370850744e+04, gap 0.0000%\n",
      "\n",
      "User-callback calls 1447, time in user-callback 0.13 sec\n"
     ]
    }
   ],
   "source": [
    "mod.setParam(\"OutputFlag\", 1)\n",
    "mod._Xvars = Xvars\n",
    "mod.setParam\n",
    "mod.Params.LazyConstraints = 1\n",
    "mod.optimize(GeneraLazyConstr)\n"
   ]
  },
  {
   "cell_type": "markdown",
   "metadata": {},
   "source": [
    "## Preleva la soluzione e crea una lista *sortedPos* che contiene le posizioni dei nodi nel tour "
   ]
  },
  {
   "cell_type": "code",
   "execution_count": 9,
   "metadata": {},
   "outputs": [
    {
     "name": "stdout",
     "output_type": "stream",
     "text": [
      "Valore Soluzione = 33523.708507435585\n",
      "Soluzione ottima:\n",
      "[(1, 8), (2, 29), (3, 23), (4, 26), (5, 42), (6, 37), (7, 28), (8, 38), (9, 1), (10, 45), (11, 12), (12, 15), (13, 11), (14, 25), (15, 40), (16, 22), (17, 43), (18, 7), (19, 27), (20, 47), (21, 32), (22, 3), (23, 14), (24, 10), (25, 13), (26, 2), (27, 17), (28, 6), (29, 34), (30, 36), (31, 44), (32, 39), (33, 20), (34, 41), (35, 4), (36, 46), (37, 19), (38, 31), (39, 48), (40, 9), (41, 16), (42, 24), (43, 30), (44, 18), (45, 35), (46, 33), (47, 21), (48, 5)]\n"
     ]
    }
   ],
   "source": [
    "print(\"Valore Soluzione =\", mod.ObjVal)\n",
    "\n",
    "SOL = []\n",
    "print(\"Soluzione ottima:\")\n",
    "for (i,j) in Xvars:\n",
    "    if Xvars[i,j].X > 0.5 :\n",
    "        SOL.append((i,j))\n",
    "print(SOL)"
   ]
  },
  {
   "cell_type": "markdown",
   "metadata": {},
   "source": [
    "### Didegna la soluzione"
   ]
  },
  {
   "cell_type": "code",
   "execution_count": null,
   "metadata": {},
   "outputs": [],
   "source": [
    "import matplotlib\n",
    "import matplotlib.pyplot as plt\n",
    "\n",
    "plt.figure(figsize=(20,20))\n",
    "for i in Nodes:\n",
    "    plt.scatter(Nodes[i][0],Nodes[i][1])\n",
    "    plt.text(Nodes[i][0],Nodes[i][1], str(i),fontsize=18)\n",
    "            \n",
    "\n",
    "for i in range(NumNodes -1):\n",
    "      plt.plot([Nodes[sortedPos[i]][0],Nodes[sortedPos[i+1]][0]],\n",
    "               [Nodes[sortedPos[i]][1],Nodes[sortedPos[i+1]][1]])  \n",
    "            \n",
    "plt.plot([Nodes[sortedPos[len(sortedPos)-1]][0],Nodes[sortedPos[0]][0]],\n",
    "         [Nodes[sortedPos[len(sortedPos)-1]][1],Nodes[sortedPos[0]][1]])\n",
    "        \n",
    "plt.xlabel('X');\n",
    "plt.ylabel('Y');"
   ]
  }
 ],
 "metadata": {
  "kernelspec": {
   "display_name": "Python 3 (ipykernel)",
   "language": "python",
   "name": "python3"
  },
  "language_info": {
   "codemirror_mode": {
    "name": "ipython",
    "version": 3
   },
   "file_extension": ".py",
   "mimetype": "text/x-python",
   "name": "python",
   "nbconvert_exporter": "python",
   "pygments_lexer": "ipython3",
   "version": "3.11.5"
  }
 },
 "nbformat": 4,
 "nbformat_minor": 4
}
