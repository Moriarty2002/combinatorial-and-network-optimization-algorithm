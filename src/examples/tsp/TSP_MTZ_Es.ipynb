{
 "cells": [
  {
   "cell_type": "markdown",
   "metadata": {},
   "source": [
    "# Problema del commesso viaggatore (TSP)"
   ]
  },
  {
   "cell_type": "markdown",
   "metadata": {},
   "source": [
    "## Definizione\n",
    "### Dato un grafo $G(V,A)$ a cui è associato un costo $d_{ij}$ ad ogni arco $(i,j) \\in A$. Il problema del commesso viaggiatore consiste nel cercare il circuito Hamiltoniano di costo minimo.\n",
    "### - Un ciclo Hamiltoniano è un ciclo che attraversa tutti i nodi del grafo una ed una sola volta.\n",
    "### - Il costo di un ciclo Hamiltoniano è dato dalla somma dei costi degli archi che lo compongono."
   ]
  },
  {
   "cell_type": "markdown",
   "metadata": {},
   "source": [
    "## Definizione"
   ]
  },
  {
   "cell_type": "markdown",
   "metadata": {},
   "source": [
    "## Variabili di decisione\n",
    "\n",
    "### <span style=\"color:purple\">$x_{ij} \\quad (i,j) \\in A $ </span>  - variabile binaria uguale a $1$ se l'arco $(i,j)$ appartiene al circuito hamiltoniano, 0 altrimenti.\n",
    "\n",
    "\n",
    "## Funzione obiettivo\n",
    "### Minimizza il costo totale del circuito hamiltoniano\n",
    "\n",
    "\\begin{equation}\n",
    "\\text{Min} \\quad Z = \\sum_{(i,j) \\in A} d_{ij} \\cdot x_{ij}\n",
    "\\end{equation}\n",
    "\n",
    "## Vincoli di assegnamento\n",
    "### In una soluzione ammissibile (circuito hamiltoniano) ogni nodo deve avere esattamente un arco entrante ed esattamente un arco uscente.\n",
    "\n",
    "\\begin{equation}\n",
    "\\sum_{i \\in V, \\ i \\neq j} x_{ij} = 1 \\quad \\quad j \\in V \n",
    "\\end{equation}\n",
    "\n",
    "\\begin{equation}\n",
    "\\sum_{i \\in V, \\ i \\neq j} x_{ji} = 1 \\quad \\quad j \\in V \n",
    "\\end{equation}\n",
    "\n",
    "## Vincoli di assenza di sottogiri \n",
    "### In una soluzione ammissibile (circuito hamiltoniano) non ci possono essere cicli su un sottoinsime proprio dell'insieme dei nodi $V$.\n",
    "\n",
    "### Nuovo insieme di varibili\n",
    "### <span style=\"color:purple\">$u_{i} \\quad i \\in V $ </span>  - variabile binaria indicante lordine di visita del vertice $i$\n",
    "\n",
    "### Vincoli che definiscono l'ordine di visita di un nodo in funzione delle varibili $x_{ij}$\n",
    "\n",
    "\\begin{eqnarray}\n",
    "&u_1 = 1 & \\quad \\quad \\quad \\\\\n",
    "&u_j - u_i \\geq 1 - n(1-x_{ij}) & \\quad \\quad  i,j \\in V, \\ i\\neq j, \\ j \\neq 1\n",
    "\\end{eqnarray}"
   ]
  },
  {
   "cell_type": "markdown",
   "metadata": {},
   "source": [
    "## Istanza\n",
    "\n",
    "### Legge il file in input e crea il dizionario *Nodes* con chiave *nome del nodo* e valore *coordinate del nodo*"
   ]
  },
  {
   "cell_type": "code",
   "execution_count": null,
   "metadata": {},
   "outputs": [],
   "source": []
  },
  {
   "cell_type": "markdown",
   "metadata": {},
   "source": [
    "### Crea il dizionario Dist con chiave *(i,j)* e valore la distanza euclidea"
   ]
  },
  {
   "cell_type": "code",
   "execution_count": null,
   "metadata": {},
   "outputs": [],
   "source": []
  },
  {
   "cell_type": "markdown",
   "metadata": {},
   "source": [
    "## Importa la libreria GRB inizializza il problema e definisce le variabili"
   ]
  },
  {
   "cell_type": "code",
   "execution_count": null,
   "metadata": {},
   "outputs": [],
   "source": []
  },
  {
   "cell_type": "markdown",
   "metadata": {},
   "source": [
    "## Vincoli di assegnamento"
   ]
  },
  {
   "cell_type": "code",
   "execution_count": null,
   "metadata": {},
   "outputs": [],
   "source": []
  },
  {
   "cell_type": "markdown",
   "metadata": {},
   "source": [
    "## Vincoli di posizione"
   ]
  },
  {
   "cell_type": "code",
   "execution_count": null,
   "metadata": {},
   "outputs": [],
   "source": []
  },
  {
   "cell_type": "code",
   "execution_count": null,
   "metadata": {},
   "outputs": [],
   "source": []
  },
  {
   "cell_type": "code",
   "execution_count": null,
   "metadata": {},
   "outputs": [],
   "source": []
  },
  {
   "cell_type": "markdown",
   "metadata": {},
   "source": [
    "## Risolve il modello"
   ]
  },
  {
   "cell_type": "code",
   "execution_count": null,
   "metadata": {},
   "outputs": [],
   "source": []
  },
  {
   "cell_type": "markdown",
   "metadata": {},
   "source": [
    "## Preleva la soluzione e crea una lista *sortedPos* che contiene le posizioni dei nodi nel tour "
   ]
  },
  {
   "cell_type": "code",
   "execution_count": null,
   "metadata": {},
   "outputs": [],
   "source": []
  },
  {
   "cell_type": "markdown",
   "metadata": {},
   "source": [
    "### Disegna la soluzione"
   ]
  },
  {
   "cell_type": "code",
   "execution_count": null,
   "metadata": {},
   "outputs": [],
   "source": []
  }
 ],
 "metadata": {
  "kernelspec": {
   "display_name": "Python 3 (ipykernel)",
   "language": "python",
   "name": "python3"
  },
  "language_info": {
   "codemirror_mode": {
    "name": "ipython",
    "version": 3
   },
   "file_extension": ".py",
   "mimetype": "text/x-python",
   "name": "python",
   "nbconvert_exporter": "python",
   "pygments_lexer": "ipython3",
   "version": "3.12.7"
  }
 },
 "nbformat": 4,
 "nbformat_minor": 4
}
